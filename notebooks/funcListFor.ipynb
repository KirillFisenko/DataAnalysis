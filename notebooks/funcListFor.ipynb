{
 "cells": [
  {
   "cell_type": "markdown",
   "id": "fb9e1ac6",
   "metadata": {},
   "source": [
    "1) Установить на компьютер дистрибутив: Miniconda, интерактивную среду разработки JupyterLab, библиотеки Pandas, NumPy, Matplotlib, Seaborn. В интерактивной среде разработки написать программный код, выводящий версии данных библиотек."
   ]
  },
  {
   "cell_type": "code",
   "execution_count": 19,
   "id": "af28d4e2",
   "metadata": {},
   "outputs": [
    {
     "name": "stdout",
     "output_type": "stream",
     "text": [
      "Version pandas: 1.4.2\n",
      "Version numpy: 1.21.5\n",
      "Version matplotlib: 3.5.1\n",
      "Version seaborn: 0.11.2\n"
     ]
    }
   ],
   "source": [
    "import pandas, numpy, matplotlib, seaborn\n",
    "print('Version pandas:', pandas.__version__)\n",
    "print('Version numpy:', numpy.__version__)\n",
    "print('Version matplotlib:', matplotlib.__version__)\n",
    "print('Version seaborn:', seaborn.__version__)"
   ]
  },
  {
   "cell_type": "markdown",
   "id": "017427f7",
   "metadata": {},
   "source": [
    "2) Задача на работу с функциями. Даны два действительных числа x и y. Проверьте, принадлежит ли точка с координатами (x, y) заштрихованному квадрату (включая его границу). Если точка принадлежит квадрату, выведите слово YES, иначе выведите слово NO. На рис. 1 сетка проведена с шагом 1, горизонтальная ось x, вертикальная ось y. "
   ]
  },
  {
   "cell_type": "code",
   "execution_count": 27,
   "id": "cfc4754e",
   "metadata": {},
   "outputs": [
    {
     "name": "stdout",
     "output_type": "stream",
     "text": [
      "Yes\n",
      "No\n",
      "Yes\n"
     ]
    }
   ],
   "source": [
    "def IsPointInSquare (x, y):\n",
    "    return 'Yes' if 1 >= x >= -1 and 1 >= y >= -1 else 'No'\n",
    "\n",
    "print(IsPointInSquare(0, -1))\n",
    "print(IsPointInSquare(1, 2))\n",
    "print(IsPointInSquare(0.3, -0.4))"
   ]
  },
  {
   "cell_type": "markdown",
   "id": "d67787dd",
   "metadata": {},
   "source": [
    "3) Задача на работу со списками и обработку строк. Вводится строка произвольной длины, содержащая любое количество целых чисел через пробелы и другие знаки препинания. Необходимо написать функцию, которая будет возвращать все четные элементы входной строки в виде списка (list)."
   ]
  },
  {
   "cell_type": "code",
   "execution_count": 28,
   "id": "e9cab571",
   "metadata": {},
   "outputs": [
    {
     "name": "stdout",
     "output_type": "stream",
     "text": [
      "[2, 4, 6, 8]\n",
      "[100, 2]\n",
      "[6, 150, 6, 8]\n"
     ]
    }
   ],
   "source": [
    "import string\n",
    "def EvenNumbers (stroka):\n",
    "    for i in stroka:\n",
    "        if i in string.punctuation:\n",
    "            stroka = stroka.replace(i, \" \")\n",
    "    return [int(i) for i in stroka.split() if int(i) % 2 == 0]\n",
    "\n",
    "print(EvenNumbers('1  2,3, 4 5, 6, 7 8'))\n",
    "print(EvenNumbers('100...2,3, 5,.,7    9'))\n",
    "print(EvenNumbers(',!,6, 150 6, &3 8'))"
   ]
  },
  {
   "cell_type": "markdown",
   "id": "527110fd",
   "metadata": {},
   "source": [
    "4) Задачи на циклы. Создайте функцию, на вход которой подается два целых числа A и В. Функция должна возвращать все целые числа в виде списка (list) от A до B включительно, в порядке возрастания, если A < B, или в порядке убывания в противном случае."
   ]
  },
  {
   "cell_type": "code",
   "execution_count": 42,
   "id": "abb1276f",
   "metadata": {},
   "outputs": [
    {
     "name": "stdout",
     "output_type": "stream",
     "text": [
      "[1, 2, 3, 4]\n",
      "[6, 5, 4]\n",
      "[-1, 0, 1, 2, 3]\n"
     ]
    }
   ],
   "source": [
    "def Numbers(a, b):\n",
    "    return list(range(a, b+1)) if a < b else list(range(a, b-1, -1))\n",
    "\n",
    "print(Numbers(1, 4))\n",
    "print(Numbers(6, 4))\n",
    "print(Numbers(-1, 3))"
   ]
  }
 ],
 "metadata": {
  "kernelspec": {
   "display_name": "Python 3",
   "language": "python",
   "name": "python3"
  },
  "language_info": {
   "codemirror_mode": {
    "name": "ipython",
    "version": 3
   },
   "file_extension": ".py",
   "mimetype": "text/x-python",
   "name": "python",
   "nbconvert_exporter": "python",
   "pygments_lexer": "ipython3",
   "version": "3.10.3 (tags/v3.10.3:a342a49, Mar 16 2022, 13:07:40) [MSC v.1929 64 bit (AMD64)]"
  },
  "vscode": {
   "interpreter": {
    "hash": "5718ec4fb0f85325543e17d49159c6b0a028261c8617b1e1061d196a702646ee"
   }
  }
 },
 "nbformat": 4,
 "nbformat_minor": 5
}
